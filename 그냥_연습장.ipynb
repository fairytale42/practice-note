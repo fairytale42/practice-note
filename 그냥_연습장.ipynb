{
  "nbformat": 4,
  "nbformat_minor": 0,
  "metadata": {
    "colab": {
      "provenance": [],
      "authorship_tag": "ABX9TyO3A6c6wC67mQRNYm1WCnjo",
      "include_colab_link": true
    },
    "kernelspec": {
      "name": "python3",
      "display_name": "Python 3"
    },
    "language_info": {
      "name": "python"
    }
  },
  "cells": [
    {
      "cell_type": "markdown",
      "metadata": {
        "id": "view-in-github",
        "colab_type": "text"
      },
      "source": [
        "<a href=\"https://colab.research.google.com/github/fairytale42/practice-note/blob/main/%EA%B7%B8%EB%83%A5_%EC%97%B0%EC%8A%B5%EC%9E%A5.ipynb\" target=\"_parent\"><img src=\"https://colab.research.google.com/assets/colab-badge.svg\" alt=\"Open In Colab\"/></a>"
      ]
    },
    {
      "cell_type": "markdown",
      "source": [
        "이건 그냥 연습장이다.\n",
        "=====================\n",
        "\n",
        "이건 그냥 낙서다.\n",
        "---------------------\n",
        "\n",
        "#우리는 기아타이거즈\n",
        "##뜨거운 열정으로 하나돼\n",
        "###최강 기아 타이거즈여\n",
        "####1번 타자 박찬호\n",
        "#####2번 타자 김도영\n",
        "######3번 타자 나성범\n",
        "\n",
        "\n",
        "> 4번 타자 최형우\n",
        "> > 5번 타자 테스형\n",
        "> > > 6번 타자 김선빈\n",
        "\n",
        "* 7번 타자 이우성\n",
        "   - 8번 타자 한준수\n",
        "      + 9번 타자 최원준\n",
        "\n",
        "\n"
      ],
      "metadata": {
        "id": "me15w-L75xU9"
      }
    },
    {
      "cell_type": "markdown",
      "source": [
        "* * *\n",
        "*********\n",
        "- - -\n",
        "------"
      ],
      "metadata": {
        "id": "LsXYlnpEEIql"
      }
    },
    {
      "cell_type": "markdown",
      "source": [
        "[뷰티풀너드 *youtube*](https://www.youtube.com/@beautifulnerd)\n",
        "- - -\n",
        "[갸티비 by KIA Tigers *youtube*](https://www.youtube.com/@kiatigerstv)\n",
        "* * *\n",
        "[OHTANI SHOHEI *instagram*](https://www.instagram.com/shoheiohtani/)"
      ],
      "metadata": {
        "id": "hJUyickzEZSN"
      }
    },
    {
      "cell_type": "markdown",
      "source": [
        "*원형서 그는 신이야*    \n",
        "_원형서 그는 신이야_   \n",
        "**원형서 그는 신이야**\n",
        "__원형서 그는 신이야__   \n",
        "\n",
        "~~OHTANI is a god~~\n"
      ],
      "metadata": {
        "id": "knQP67XLITVB"
      }
    },
    {
      "cell_type": "code",
      "source": [
        "import re\n",
        "\n",
        "text = \"hyeongseo, uho, seongwoo, bosung, hyeongwoo\"\n",
        "pattern = r\"hyeong...\"\n",
        "\n",
        "matches = re.findall(pattern, text)\n",
        "\n",
        "for i in matches:\n",
        "  print(\"Match:\", i)\n",
        "\n",
        "\n"
      ],
      "metadata": {
        "colab": {
          "base_uri": "https://localhost:8080/"
        },
        "id": "DazBmGjb67gI",
        "outputId": "41b5a633-2665-4ce4-fb62-3eccd70c66bd"
      },
      "execution_count": null,
      "outputs": [
        {
          "output_type": "stream",
          "name": "stdout",
          "text": [
            "Match: hyeongseo\n",
            "Match: hyeongwoo\n"
          ]
        }
      ]
    },
    {
      "cell_type": "code",
      "source": [
        "str_data = \"I love SHOHEI\"\n",
        "print(str_data[0])\n",
        "print(str_data[1])\n",
        "print(str_data[2])\n",
        "print(str_data[3])\n",
        "print(str_data[4])\n",
        "print(str_data[5])\n",
        "print(str_data[6])\n",
        "print(str_data[7])\n",
        "print(str_data[8])\n",
        "print(str_data[9])\n",
        "print(str_data[10])\n",
        "print(str_data[11])\n",
        "print(str_data[12])"
      ],
      "metadata": {
        "colab": {
          "base_uri": "https://localhost:8080/"
        },
        "id": "ihPVFo4pKuNp",
        "outputId": "196cecfd-b031-4201-89e2-0c9b95b2ebcb"
      },
      "execution_count": null,
      "outputs": [
        {
          "output_type": "stream",
          "name": "stdout",
          "text": [
            "I\n",
            " \n",
            "l\n",
            "o\n",
            "v\n",
            "e\n",
            " \n",
            "S\n",
            "H\n",
            "O\n",
            "H\n",
            "E\n",
            "I\n"
          ]
        }
      ]
    },
    {
      "cell_type": "code",
      "source": [
        "str_data = \"I love JHL?\"\n",
        "print(str_data)\n",
        "\n",
        "print(str_data[-1])\n",
        "print(str_data[-2])\n",
        "print(str_data[-3])\n",
        "print(str_data[-4])\n",
        "print(str_data[-5])\n",
        "print(str_data[-6])\n",
        "print(str_data[-7])\n",
        "print(str_data[-8])\n",
        "print(str_data[-9])\n",
        "print(str_data[-10])\n",
        "print(str_data[-11])"
      ],
      "metadata": {
        "colab": {
          "base_uri": "https://localhost:8080/"
        },
        "id": "IH_Wr3c1OY8y",
        "outputId": "b9694cef-a436-4eac-d08d-a10338de837a"
      },
      "execution_count": null,
      "outputs": [
        {
          "output_type": "stream",
          "name": "stdout",
          "text": [
            "I love JHL?\n",
            "?\n",
            "L\n",
            "H\n",
            "J\n",
            " \n",
            "e\n",
            "v\n",
            "o\n",
            "l\n",
            " \n",
            "I\n"
          ]
        }
      ]
    },
    {
      "cell_type": "code",
      "source": [
        "str =  \"\"\"she said, \"time is money!\"\n",
        "\"\"\"\n",
        "\n",
        "print(str[0])\n",
        "print(str[1])\n",
        "print(str[6])\n",
        "print(str[11])\n",
        "print(str[24])"
      ],
      "metadata": {
        "colab": {
          "base_uri": "https://localhost:8080/"
        },
        "id": "DCOLjJeZP-SI",
        "outputId": "d803f684-a679-455d-ff10-6e8b36ef86d1"
      },
      "execution_count": null,
      "outputs": [
        {
          "output_type": "stream",
          "name": "stdout",
          "text": [
            "she said, \"time is money!\"\n",
            "\n",
            "s\n",
            "h\n",
            "i\n",
            "t\n",
            "!\n"
          ]
        }
      ]
    },
    {
      "cell_type": "code",
      "source": [
        "x = 42\n",
        "y = 47\n",
        "\n",
        "if x>y:\n",
        "  print('x is greater than y')\n",
        "\n",
        "else:\n",
        "  print('x is smaller than or equal y')\n",
        "\n"
      ],
      "metadata": {
        "colab": {
          "base_uri": "https://localhost:8080/"
        },
        "id": "YPac7iLeRoP5",
        "outputId": "7f7bbda5-c29a-4c46-a1e9-40e8941287db"
      },
      "execution_count": null,
      "outputs": [
        {
          "output_type": "stream",
          "name": "stdout",
          "text": [
            "x is smaller than y\n"
          ]
        }
      ]
    }
  ]
}